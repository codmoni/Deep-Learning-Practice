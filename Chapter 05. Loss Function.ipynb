{
 "cells": [
  {
   "cell_type": "markdown",
   "id": "3f7a81a8-b5f5-4eb0-bd80-3805ff5449cd",
   "metadata": {},
   "source": [
    "# **Loss Function**"
   ]
  },
  {
   "cell_type": "markdown",
   "id": "b51cdd4b-bb3e-4bcd-8d5c-c67eb6b07848",
   "metadata": {},
   "source": [
    "$ \\text{MSE} = \\frac{1}{N} \\sum_{i=1}^{N} (y_i - \\hat{y_i})^2 $"
   ]
  },
  {
   "cell_type": "markdown",
   "id": "0e2bbb63-568a-4164-af4c-62a905cc782e",
   "metadata": {},
   "source": [
    "## **Basic** "
   ]
  },
  {
   "cell_type": "code",
   "execution_count": 7,
   "id": "140f8ad5-ef63-4345-a7bd-f0db988f071c",
   "metadata": {},
   "outputs": [],
   "source": [
    "import torch"
   ]
  },
  {
   "cell_type": "code",
   "execution_count": 8,
   "id": "49f343e3-ecc5-4e09-a3fc-70ff99b52a7b",
   "metadata": {},
   "outputs": [],
   "source": [
    "def mse(x_hat, x):\n",
    "    # |x_hat| = (batch_size, dim)\n",
    "    # |x| = (bacth_size, dim)\n",
    "    # => 두 Tensor의 shape이 같아야 함.\n",
    "    y = ((x-x_hat)**2).mean()\n",
    "\n",
    "    return y"
   ]
  },
  {
   "cell_type": "code",
   "execution_count": 10,
   "id": "af4d153a-2e55-42a3-9ceb-374873ba0841",
   "metadata": {},
   "outputs": [
    {
     "name": "stdout",
     "output_type": "stream",
     "text": [
      "tensor(2.5000)\n"
     ]
    }
   ],
   "source": [
    "# 모델의 실제값(target)\n",
    "x = torch.FloatTensor([[1,1],\n",
    "                       [2,2]])\n",
    "\n",
    "# 모델의 예측값\n",
    "x_hat = torch.FloatTensor([[0,0], \n",
    "                           [0,0]])\n",
    "print(mse(x_hat, x))"
   ]
  },
  {
   "cell_type": "markdown",
   "id": "e7d48d24-cd7d-4da9-8a10-6ebeae5c3439",
   "metadata": {},
   "source": [
    "| 샘플 | (x - x_hat) | (x - x_hat)^2 | 합 |\n",
    "|:------:|:-------------:|:----------------:|:----:|\n",
    "| [1, 1] | [1, 1] | [1, 1] | 2 |\n",
    "| [2, 2] | [2, 2] | [4, 4] | 8 |\n",
    "| **전체 합** |  |  | **10** |\n",
    "| **평균 (MSE)** |  |  | **2.5** |\n"
   ]
  },
  {
   "cell_type": "markdown",
   "id": "90870aad-b4d8-4476-9b06-3fd407153f67",
   "metadata": {},
   "source": [
    "---"
   ]
  },
  {
   "cell_type": "markdown",
   "id": "9bc34c4a-eb00-48a5-9d7b-878715a2e76f",
   "metadata": {},
   "source": [
    "## **torch.nn.functional**"
   ]
  },
  {
   "cell_type": "markdown",
   "id": "5c3b1955-3606-4cc7-8d22-4074caa0560d",
   "metadata": {},
   "source": [
    "파이토치 내장 MSE 손실 함수 활용"
   ]
  },
  {
   "cell_type": "code",
   "execution_count": 11,
   "id": "0c6837b6-a3ab-4d8f-8946-cd1c9745033a",
   "metadata": {},
   "outputs": [],
   "source": [
    "import torch.nn.functional as F"
   ]
  },
  {
   "cell_type": "code",
   "execution_count": 12,
   "id": "7bcd7be0-a74a-4c55-9925-33e969920f72",
   "metadata": {},
   "outputs": [
    {
     "data": {
      "text/plain": [
       "tensor(2.5000)"
      ]
     },
     "execution_count": 12,
     "metadata": {},
     "output_type": "execute_result"
    }
   ],
   "source": [
    "F.mse_loss(x_hat, x)"
   ]
  },
  {
   "cell_type": "markdown",
   "id": "f5af262b-d296-448b-b3d5-59d9b5e4bac0",
   "metadata": {},
   "source": [
    "---"
   ]
  },
  {
   "cell_type": "markdown",
   "id": "ced4729c-4c98-4194-bfcd-4f53bec67964",
   "metadata": {},
   "source": [
    "## **torch.nn**"
   ]
  },
  {
   "cell_type": "markdown",
   "id": "0524ff80-7b0e-4d05-9687-2660f5e3e901",
   "metadata": {},
   "source": [
    "torch.nn 활용"
   ]
  },
  {
   "cell_type": "code",
   "execution_count": 13,
   "id": "f14602cf-ec6b-462e-bcba-06aad5bc638c",
   "metadata": {},
   "outputs": [],
   "source": [
    "import torch.nn as nn"
   ]
  },
  {
   "cell_type": "code",
   "execution_count": 16,
   "id": "c9765c93-9a73-4d4a-a1c7-c45247e2d355",
   "metadata": {},
   "outputs": [],
   "source": [
    "mse_loss = nn.MSELoss() # 하나의 Layer로 취급"
   ]
  },
  {
   "cell_type": "code",
   "execution_count": 17,
   "id": "ece1a51c-0bd7-453b-8c63-9070593d7fa4",
   "metadata": {},
   "outputs": [
    {
     "data": {
      "text/plain": [
       "tensor(2.5000)"
      ]
     },
     "execution_count": 17,
     "metadata": {},
     "output_type": "execute_result"
    }
   ],
   "source": [
    "mse_loss(x_hat, x)"
   ]
  }
 ],
 "metadata": {
  "kernelspec": {
   "display_name": "Python 3 (ipykernel)",
   "language": "python",
   "name": "python3"
  },
  "language_info": {
   "codemirror_mode": {
    "name": "ipython",
    "version": 3
   },
   "file_extension": ".py",
   "mimetype": "text/x-python",
   "name": "python",
   "nbconvert_exporter": "python",
   "pygments_lexer": "ipython3",
   "version": "3.13.5"
  }
 },
 "nbformat": 4,
 "nbformat_minor": 5
}
