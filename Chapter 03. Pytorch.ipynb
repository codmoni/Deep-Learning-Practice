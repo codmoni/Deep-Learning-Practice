{
 "cells": [
  {
   "cell_type": "markdown",
   "id": "61b6b256-6e2c-41cf-8051-5a9ff110b4e4",
   "metadata": {},
   "source": [
    "# **Pytorch Tutorial**"
   ]
  },
  {
   "cell_type": "markdown",
   "id": "535366ad-01ca-4b62-aea4-91d24ebff9c4",
   "metadata": {
    "jp-MarkdownHeadingCollapsed": true
   },
   "source": [
    "## **Basic Handling**"
   ]
  },
  {
   "cell_type": "code",
   "execution_count": 1,
   "id": "4aac647d-41cf-41fa-bf34-4b02c497fe82",
   "metadata": {},
   "outputs": [],
   "source": [
    "import torch"
   ]
  },
  {
   "cell_type": "markdown",
   "id": "2249f2dc-207d-4776-b2ad-1002355f7bbf",
   "metadata": {},
   "source": [
    "### **다양한 타입의 텐서**"
   ]
  },
  {
   "cell_type": "code",
   "execution_count": 9,
   "id": "089e9b6a-d68d-4385-b0ff-8a059829e871",
   "metadata": {},
   "outputs": [
    {
     "data": {
      "text/plain": [
       "tensor([[1., 2.],\n",
       "        [3., 4.]])"
      ]
     },
     "execution_count": 9,
     "metadata": {},
     "output_type": "execute_result"
    }
   ],
   "source": [
    "ft = torch.FloatTensor([[1,2],\n",
    "                       [3,4]])\n",
    "ft"
   ]
  },
  {
   "cell_type": "code",
   "execution_count": 10,
   "id": "7d602d32-14e9-4231-927f-858cafc770de",
   "metadata": {},
   "outputs": [],
   "source": [
    "lt = torch.LongTensor([[1,2],\n",
    "                       [3,4]])"
   ]
  },
  {
   "cell_type": "code",
   "execution_count": 42,
   "id": "68fa6e4b-9a3a-418d-9483-041c13ab4c06",
   "metadata": {},
   "outputs": [
    {
     "data": {
      "text/plain": [
       "tensor([[1, 2],\n",
       "        [3, 4]], dtype=torch.uint8)"
      ]
     },
     "execution_count": 42,
     "metadata": {},
     "output_type": "execute_result"
    }
   ],
   "source": [
    "bt = torch.ByteTensor([[1,2],\n",
    "                       [3,4]])\n",
    "bt"
   ]
  },
  {
   "cell_type": "markdown",
   "id": "73474010-e0ff-4f53-95cf-5428956d60f7",
   "metadata": {},
   "source": [
    "임의의 값으로 채워진 원하는 크기의 텐서를 만들 수도 있다."
   ]
  },
  {
   "cell_type": "code",
   "execution_count": 43,
   "id": "49b38a70-11ac-4aa6-b288-4b6b34cbd404",
   "metadata": {},
   "outputs": [
    {
     "data": {
      "text/plain": [
       "tensor([[-1.5287e-36,  7.6371e-43],\n",
       "        [ 0.0000e+00,  0.0000e+00],\n",
       "        [ 0.0000e+00,  0.0000e+00]])"
      ]
     },
     "execution_count": 43,
     "metadata": {},
     "output_type": "execute_result"
    }
   ],
   "source": [
    "tensor = torch.FloatTensor(3,2)\n",
    "tensor"
   ]
  },
  {
   "cell_type": "markdown",
   "id": "8fab369b-3951-4311-b385-5365558be5f9",
   "metadata": {},
   "source": [
    "---"
   ]
  },
  {
   "cell_type": "markdown",
   "id": "fd958402-f2ae-41c9-9cd1-ee6c11e49c11",
   "metadata": {},
   "source": [
    "### **넘파이 호환**"
   ]
  },
  {
   "cell_type": "code",
   "execution_count": 17,
   "id": "011d0cda-0edb-4ac9-a11e-0bc223568155",
   "metadata": {},
   "outputs": [],
   "source": [
    "import numpy as np"
   ]
  },
  {
   "cell_type": "code",
   "execution_count": 18,
   "id": "f9d12e20-5797-4f37-904c-87f2dd844b7e",
   "metadata": {},
   "outputs": [
    {
     "name": "stdout",
     "output_type": "stream",
     "text": [
      "[[1 2]\n",
      " [3 4]] <class 'numpy.ndarray'>\n"
     ]
    }
   ],
   "source": [
    "x = np.array([[1,2],\n",
    "              [3,4]])\n",
    "print(x, type(x))"
   ]
  },
  {
   "cell_type": "code",
   "execution_count": 19,
   "id": "b9329e22-406b-450b-827d-04bd93a91aaa",
   "metadata": {},
   "outputs": [
    {
     "name": "stdout",
     "output_type": "stream",
     "text": [
      "tensor([[1, 2],\n",
      "        [3, 4]]) <class 'torch.Tensor'>\n"
     ]
    }
   ],
   "source": [
    "# numpy ndarray -> torch tensor\n",
    "x = torch.from_numpy(x)\n",
    "print(x, type(x))"
   ]
  },
  {
   "cell_type": "code",
   "execution_count": 20,
   "id": "13586631-e652-4cf1-a803-7b153f031fd7",
   "metadata": {},
   "outputs": [
    {
     "name": "stdout",
     "output_type": "stream",
     "text": [
      "[[1 2]\n",
      " [3 4]] <class 'numpy.ndarray'>\n"
     ]
    }
   ],
   "source": [
    "# torch tensor -> numpy ndarray\n",
    "x = x.numpy()\n",
    "print(x, type(x))"
   ]
  },
  {
   "cell_type": "markdown",
   "id": "8f10ccc4-edad-4b2c-a292-40b337b79ed2",
   "metadata": {},
   "source": [
    "---"
   ]
  },
  {
   "cell_type": "markdown",
   "id": "9c3c5fed-8775-4be6-b68d-67c4d5b032ed",
   "metadata": {},
   "source": [
    "### **텐서 타입 변환**"
   ]
  },
  {
   "cell_type": "code",
   "execution_count": 26,
   "id": "1f3e7bbf-6cc6-46f4-9f91-b2ae7b39b0cc",
   "metadata": {},
   "outputs": [
    {
     "name": "stdout",
     "output_type": "stream",
     "text": [
      "tensor([[1., 2.],\n",
      "        [3., 4.]])\n",
      "tensor([[1, 2],\n",
      "        [3, 4]])\n",
      "tensor([[1., 2.],\n",
      "        [3., 4.]])\n"
     ]
    }
   ],
   "source": [
    "ft = torch.FloatTensor([[1,2],\n",
    "                         [3,4]])\n",
    "ftToLt = ft.long()\n",
    "ltToFt = ftToLt.float()\n",
    "print(ft)\n",
    "print(ftToLt)\n",
    "print(ltToFt)"
   ]
  },
  {
   "cell_type": "markdown",
   "id": "db4aa52d-6971-4ad6-b59b-65d43af00378",
   "metadata": {},
   "source": [
    "---"
   ]
  },
  {
   "cell_type": "markdown",
   "id": "f85f182b-bd48-445b-80da-2f1dbcb68796",
   "metadata": {},
   "source": [
    "### **텐서 크기 구하기**"
   ]
  },
  {
   "cell_type": "code",
   "execution_count": 28,
   "id": "a91f58f7-1835-4965-b0aa-b9b23accc94f",
   "metadata": {},
   "outputs": [],
   "source": [
    "x = torch.FloatTensor([[[1,2],\n",
    "                        [3,4]],\n",
    "                       [[5,6],\n",
    "                        [7,8]],\n",
    "                       [[9,10],\n",
    "                        [11,12]]])"
   ]
  },
  {
   "cell_type": "markdown",
   "id": "9280e807-2bd6-4352-aad7-0a493b51e6d5",
   "metadata": {},
   "source": [
    "(1) 텐서 크기를 구하려면 size() 함수를 호출하거나, shape 속성에 접근한다.\n",
    "두 방법의 차이는 없고 size() 함수의 결괏값이 shape 속성에 담겨있다고 보면 된다."
   ]
  },
  {
   "cell_type": "code",
   "execution_count": 30,
   "id": "15f0f44d-583f-422e-88c7-24d91af002e0",
   "metadata": {},
   "outputs": [
    {
     "name": "stdout",
     "output_type": "stream",
     "text": [
      "torch.Size([3, 2, 2])\n",
      "torch.Size([3, 2, 2])\n"
     ]
    }
   ],
   "source": [
    "print(x.size())\n",
    "print(x.shape)"
   ]
  },
  {
   "cell_type": "markdown",
   "id": "8f547f88-d04b-40ac-9564-6b58e43b0f0e",
   "metadata": {},
   "source": [
    "(2) 특정 차원의 크기를 알기 위해서는 size()함수에 인자에 원하는 차원의 인덱스를 넣거나, shape 속성의 해당 차원 인덱스에 접근한다."
   ]
  },
  {
   "cell_type": "code",
   "execution_count": 33,
   "id": "5795ab51-6c57-4d37-9eb3-90491aa2b23e",
   "metadata": {},
   "outputs": [
    {
     "name": "stdout",
     "output_type": "stream",
     "text": [
      "3\n",
      "2\n",
      "2\n",
      "2\n"
     ]
    }
   ],
   "source": [
    "print(x.size(0)) # 0차원의 크기\n",
    "print(x.size(1)) # 1차원의 크기\n",
    "\n",
    "print(x.shape[2]) # 2차원의 크기\n",
    "print(x.shape[-1]) # 2차원의 크기"
   ]
  },
  {
   "cell_type": "markdown",
   "id": "87faa72a-6562-4a03-9122-e9290296f6fe",
   "metadata": {},
   "source": [
    "(3) 텐서가 몇 차원인지 알기 위해서는 dim() 함수를 활용한다. 이것은 shape 속성의 배열 크기와 같다."
   ]
  },
  {
   "cell_type": "code",
   "execution_count": 34,
   "id": "f75fc4e9-efeb-422a-a800-2f2b8116ca06",
   "metadata": {},
   "outputs": [
    {
     "name": "stdout",
     "output_type": "stream",
     "text": [
      "3\n",
      "3\n"
     ]
    }
   ],
   "source": [
    "print(x.dim())\n",
    "print(len(x.size()))"
   ]
  },
  {
   "cell_type": "markdown",
   "id": "632a8cf0-86a3-470d-91b0-9afcf368b986",
   "metadata": {},
   "source": [
    "---"
   ]
  },
  {
   "cell_type": "markdown",
   "id": "0b7341d8-2e29-44c7-8f3c-6e2b0db1e76a",
   "metadata": {},
   "source": [
    "### **요소별 산술 연산**"
   ]
  },
  {
   "cell_type": "markdown",
   "id": "592d6c38-af6f-4f00-85c8-44ab5131a2d5",
   "metadata": {},
   "source": [
    "(1) 행렬합, 행렬차, 행렬곱, 행렬 나눗셈"
   ]
  },
  {
   "cell_type": "code",
   "execution_count": 35,
   "id": "714dfcd6-6605-46fd-b36a-94b9d84d3c02",
   "metadata": {},
   "outputs": [],
   "source": [
    "a = torch.FloatTensor([[1,2],\n",
    "                       [3,4]])\n",
    "b = torch.FloatTensor([[2,2],\n",
    "                       [3,3]])"
   ]
  },
  {
   "cell_type": "code",
   "execution_count": 36,
   "id": "3da4b7c0-ea38-4ce2-b9cb-768cedbf5c17",
   "metadata": {},
   "outputs": [
    {
     "data": {
      "text/plain": [
       "tensor([[3., 4.],\n",
       "        [6., 7.]])"
      ]
     },
     "execution_count": 36,
     "metadata": {},
     "output_type": "execute_result"
    }
   ],
   "source": [
    "a+b"
   ]
  },
  {
   "cell_type": "code",
   "execution_count": 37,
   "id": "14e9f2ef-ea7d-405b-a02c-347fa5155863",
   "metadata": {},
   "outputs": [
    {
     "data": {
      "text/plain": [
       "tensor([[-1.,  0.],\n",
       "        [ 0.,  1.]])"
      ]
     },
     "execution_count": 37,
     "metadata": {},
     "output_type": "execute_result"
    }
   ],
   "source": [
    "a-b"
   ]
  },
  {
   "cell_type": "code",
   "execution_count": 38,
   "id": "a2aa83a3-3ca2-4816-98d4-976c053e8288",
   "metadata": {},
   "outputs": [
    {
     "data": {
      "text/plain": [
       "tensor([[ 2.,  4.],\n",
       "        [ 9., 12.]])"
      ]
     },
     "execution_count": 38,
     "metadata": {},
     "output_type": "execute_result"
    }
   ],
   "source": [
    "a*b"
   ]
  },
  {
   "cell_type": "code",
   "execution_count": 39,
   "id": "a93fe8dd-a045-4a28-9008-1feae64ab01a",
   "metadata": {},
   "outputs": [
    {
     "data": {
      "text/plain": [
       "tensor([[0.5000, 1.0000],\n",
       "        [1.0000, 1.3333]])"
      ]
     },
     "execution_count": 39,
     "metadata": {},
     "output_type": "execute_result"
    }
   ],
   "source": [
    "a/b"
   ]
  },
  {
   "cell_type": "markdown",
   "id": "14a48fc7-40fa-4a71-aab6-11af3f845d64",
   "metadata": {},
   "source": [
    "(2) 논리 연산"
   ]
  },
  {
   "cell_type": "code",
   "execution_count": 40,
   "id": "ac281e0d-38e2-462d-a61f-c260d251b1aa",
   "metadata": {},
   "outputs": [
    {
     "data": {
      "text/plain": [
       "tensor([[False,  True],\n",
       "        [ True, False]])"
      ]
     },
     "execution_count": 40,
     "metadata": {},
     "output_type": "execute_result"
    }
   ],
   "source": [
    "a == b"
   ]
  },
  {
   "cell_type": "code",
   "execution_count": 41,
   "id": "c521295d-48d7-4fee-bbe8-2381aa9fd161",
   "metadata": {},
   "outputs": [
    {
     "data": {
      "text/plain": [
       "tensor([[ True, False],\n",
       "        [False,  True]])"
      ]
     },
     "execution_count": 41,
     "metadata": {},
     "output_type": "execute_result"
    }
   ],
   "source": [
    "a != b"
   ]
  },
  {
   "cell_type": "markdown",
   "id": "67c14f66-7a1a-45b0-a131-cf32155ba256",
   "metadata": {},
   "source": [
    "---"
   ]
  },
  {
   "cell_type": "markdown",
   "id": "5d2911ea-aa28-4710-9491-68699e8bdc74",
   "metadata": {},
   "source": [
    "### **인플레이스 연산**"
   ]
  },
  {
   "cell_type": "markdown",
   "id": "786835fe-49b4-4d2c-9513-b76f963ad7c7",
   "metadata": {},
   "source": [
    "---"
   ]
  },
  {
   "cell_type": "markdown",
   "id": "9ca100b6-43a6-45fb-97bd-e0360d603c4a",
   "metadata": {},
   "source": [
    "### **차원 축소 연산: 합과 평균**"
   ]
  },
  {
   "cell_type": "markdown",
   "id": "216ad4f9-9ce6-4360-a40d-d7ed23000e10",
   "metadata": {},
   "source": [
    "---"
   ]
  },
  {
   "cell_type": "markdown",
   "id": "06518c9b-96a8-4a4a-87cc-7f8f9ed44e2f",
   "metadata": {},
   "source": [
    "### **브로드캐스트 연산**"
   ]
  },
  {
   "cell_type": "markdown",
   "id": "d20f5a4e-2c47-4bf9-8312-b85f2f50a4c6",
   "metadata": {},
   "source": [
    "---"
   ]
  },
  {
   "cell_type": "markdown",
   "id": "a99254e0-110b-457e-a496-2006dd9ee062",
   "metadata": {
    "jp-MarkdownHeadingCollapsed": true
   },
   "source": [
    "## **텐서 형태 변환**"
   ]
  },
  {
   "cell_type": "markdown",
   "id": "2ee1ab43-46fb-4ee4-952c-a05929166a8d",
   "metadata": {},
   "source": [
    "### **View 함수**"
   ]
  },
  {
   "cell_type": "markdown",
   "id": "3d722bee-7129-4177-a28a-c241b811eb78",
   "metadata": {},
   "source": [
    "---"
   ]
  },
  {
   "cell_type": "markdown",
   "id": "b5aef658-dfb7-4520-a768-8393a6b761cd",
   "metadata": {},
   "source": [
    "### **Squeeze 함수**"
   ]
  },
  {
   "cell_type": "markdown",
   "id": "fa842013-17d6-4ef8-800c-4043c83e3799",
   "metadata": {},
   "source": [
    "---"
   ]
  },
  {
   "cell_type": "markdown",
   "id": "73a14804-a4e3-41a9-8b2e-8b6a6be6d337",
   "metadata": {},
   "source": [
    "### **Unsqueeze 함수**"
   ]
  },
  {
   "cell_type": "markdown",
   "id": "86202417-40da-4a12-a317-f9f287e4c72d",
   "metadata": {},
   "source": [
    "---"
   ]
  },
  {
   "cell_type": "markdown",
   "id": "c85be16b-048e-4d60-a216-12344e4fb4b2",
   "metadata": {
    "jp-MarkdownHeadingCollapsed": true
   },
   "source": [
    "## **텐서 자르기&붙이기**"
   ]
  },
  {
   "cell_type": "markdown",
   "id": "578c575e-c2ba-4374-bf87-23e9b47ace90",
   "metadata": {},
   "source": [
    "### **인덱싱과 슬라이싱**"
   ]
  },
  {
   "cell_type": "markdown",
   "id": "eda4e898-de55-431c-ae8f-098b91723ff6",
   "metadata": {},
   "source": [
    "---"
   ]
  },
  {
   "cell_type": "markdown",
   "id": "4a58b913-e146-4a76-a41b-f56f5906a5af",
   "metadata": {},
   "source": [
    "### **Split 함수**"
   ]
  },
  {
   "cell_type": "markdown",
   "id": "4a71f0bb-be91-4324-b1e9-2c356dd73adc",
   "metadata": {},
   "source": [
    "---"
   ]
  },
  {
   "cell_type": "markdown",
   "id": "769ac0d9-6605-47ed-9806-24c5a1835c99",
   "metadata": {},
   "source": [
    "### **Chunk 함수**"
   ]
  },
  {
   "cell_type": "markdown",
   "id": "332178b1-9c4b-45ee-8653-7130adefb210",
   "metadata": {},
   "source": [
    "---"
   ]
  },
  {
   "cell_type": "markdown",
   "id": "d473de58-9db9-47b7-a4d2-30e652552401",
   "metadata": {},
   "source": [
    "### **Index Select 함수**"
   ]
  },
  {
   "cell_type": "markdown",
   "id": "252dc01a-1aa4-4e42-9c7e-783fae343537",
   "metadata": {},
   "source": [
    "---"
   ]
  },
  {
   "cell_type": "markdown",
   "id": "dbe69716-27cb-4504-ab51-f43131d76a3d",
   "metadata": {},
   "source": [
    "### **Concatenate 함수**"
   ]
  },
  {
   "cell_type": "markdown",
   "id": "475ac0aa-6124-4a42-8c06-9d73e78d9bbd",
   "metadata": {},
   "source": [
    "---"
   ]
  },
  {
   "cell_type": "markdown",
   "id": "d18b502d-e291-4a06-9fe3-02a45088abec",
   "metadata": {},
   "source": [
    "### **Stack 함수**"
   ]
  },
  {
   "cell_type": "markdown",
   "id": "538445f8-3fc5-46da-9f79-80379310e5aa",
   "metadata": {},
   "source": [
    "---"
   ]
  },
  {
   "cell_type": "markdown",
   "id": "219e8664-d135-473f-ba3d-491a959b0676",
   "metadata": {
    "jp-MarkdownHeadingCollapsed": true
   },
   "source": [
    "## **유용한 함수들**"
   ]
  }
 ],
 "metadata": {
  "kernelspec": {
   "display_name": "Python 3 (ipykernel)",
   "language": "python",
   "name": "python3"
  },
  "language_info": {
   "codemirror_mode": {
    "name": "ipython",
    "version": 3
   },
   "file_extension": ".py",
   "mimetype": "text/x-python",
   "name": "python",
   "nbconvert_exporter": "python",
   "pygments_lexer": "ipython3",
   "version": "3.13.5"
  }
 },
 "nbformat": 4,
 "nbformat_minor": 5
}
