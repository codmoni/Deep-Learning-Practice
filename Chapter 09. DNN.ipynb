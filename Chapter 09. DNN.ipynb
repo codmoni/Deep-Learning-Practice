{
 "cells": [
  {
   "cell_type": "markdown",
   "id": "66419d1a-d8fa-4d9e-8b9d-e45fa40812d1",
   "metadata": {},
   "source": [
    "# **Deep Neural Network**"
   ]
  },
  {
   "cell_type": "markdown",
   "id": "8c26427d-377a-4989-999f-bbe8e8222d4f",
   "metadata": {},
   "source": [
    "## **Data**"
   ]
  },
  {
   "cell_type": "code",
   "execution_count": 3,
   "id": "a29e469d-8a12-4fc3-854c-a41955f066cb",
   "metadata": {},
   "outputs": [],
   "source": [
    "import pandas as pd\n",
    "import seaborn as sns\n",
    "import matplotlib.pyplot as plt\n",
    "import numpy as np\n",
    "\n",
    "from sklearn.preprocessing import StandardScaler #전처리 라이브러리에 정규화 함수가 내장되어있다."
   ]
  },
  {
   "cell_type": "markdown",
   "id": "245c261d-b14a-4370-be13-49ed1564f747",
   "metadata": {},
   "source": [
    "### **Goal**  \n",
    "Boston Housing 데이터셋을 이용해, 주택 가격(TARGET)을 예측하는 회귀 문제를 DNN 구조로 학습시키기"
   ]
  },
  {
   "cell_type": "code",
   "execution_count": 4,
   "id": "11ea67fc-d00a-4351-bc0d-a22f5474f612",
   "metadata": {},
   "outputs": [
    {
     "data": {
      "text/html": [
       "<div>\n",
       "<style scoped>\n",
       "    .dataframe tbody tr th:only-of-type {\n",
       "        vertical-align: middle;\n",
       "    }\n",
       "\n",
       "    .dataframe tbody tr th {\n",
       "        vertical-align: top;\n",
       "    }\n",
       "\n",
       "    .dataframe thead th {\n",
       "        text-align: right;\n",
       "    }\n",
       "</style>\n",
       "<table border=\"1\" class=\"dataframe\">\n",
       "  <thead>\n",
       "    <tr style=\"text-align: right;\">\n",
       "      <th></th>\n",
       "      <th>CRIM</th>\n",
       "      <th>ZN</th>\n",
       "      <th>INDUS</th>\n",
       "      <th>CHAS</th>\n",
       "      <th>NOX</th>\n",
       "      <th>RM</th>\n",
       "      <th>AGE</th>\n",
       "      <th>DIS</th>\n",
       "      <th>RAD</th>\n",
       "      <th>TAX</th>\n",
       "      <th>PTRATIO</th>\n",
       "      <th>B</th>\n",
       "      <th>LSTAT</th>\n",
       "      <th>TARGET</th>\n",
       "    </tr>\n",
       "  </thead>\n",
       "  <tbody>\n",
       "    <tr>\n",
       "      <th>501</th>\n",
       "      <td>0.06263</td>\n",
       "      <td>0.0</td>\n",
       "      <td>11.93</td>\n",
       "      <td>0.0</td>\n",
       "      <td>0.573</td>\n",
       "      <td>6.593</td>\n",
       "      <td>69.1</td>\n",
       "      <td>2.4786</td>\n",
       "      <td>1.0</td>\n",
       "      <td>273.0</td>\n",
       "      <td>21.0</td>\n",
       "      <td>391.99</td>\n",
       "      <td>9.67</td>\n",
       "      <td>22.4</td>\n",
       "    </tr>\n",
       "    <tr>\n",
       "      <th>502</th>\n",
       "      <td>0.04527</td>\n",
       "      <td>0.0</td>\n",
       "      <td>11.93</td>\n",
       "      <td>0.0</td>\n",
       "      <td>0.573</td>\n",
       "      <td>6.120</td>\n",
       "      <td>76.7</td>\n",
       "      <td>2.2875</td>\n",
       "      <td>1.0</td>\n",
       "      <td>273.0</td>\n",
       "      <td>21.0</td>\n",
       "      <td>396.90</td>\n",
       "      <td>9.08</td>\n",
       "      <td>20.6</td>\n",
       "    </tr>\n",
       "    <tr>\n",
       "      <th>503</th>\n",
       "      <td>0.06076</td>\n",
       "      <td>0.0</td>\n",
       "      <td>11.93</td>\n",
       "      <td>0.0</td>\n",
       "      <td>0.573</td>\n",
       "      <td>6.976</td>\n",
       "      <td>91.0</td>\n",
       "      <td>2.1675</td>\n",
       "      <td>1.0</td>\n",
       "      <td>273.0</td>\n",
       "      <td>21.0</td>\n",
       "      <td>396.90</td>\n",
       "      <td>5.64</td>\n",
       "      <td>23.9</td>\n",
       "    </tr>\n",
       "    <tr>\n",
       "      <th>504</th>\n",
       "      <td>0.10959</td>\n",
       "      <td>0.0</td>\n",
       "      <td>11.93</td>\n",
       "      <td>0.0</td>\n",
       "      <td>0.573</td>\n",
       "      <td>6.794</td>\n",
       "      <td>89.3</td>\n",
       "      <td>2.3889</td>\n",
       "      <td>1.0</td>\n",
       "      <td>273.0</td>\n",
       "      <td>21.0</td>\n",
       "      <td>393.45</td>\n",
       "      <td>6.48</td>\n",
       "      <td>22.0</td>\n",
       "    </tr>\n",
       "    <tr>\n",
       "      <th>505</th>\n",
       "      <td>0.04741</td>\n",
       "      <td>0.0</td>\n",
       "      <td>11.93</td>\n",
       "      <td>0.0</td>\n",
       "      <td>0.573</td>\n",
       "      <td>6.030</td>\n",
       "      <td>80.8</td>\n",
       "      <td>2.5050</td>\n",
       "      <td>1.0</td>\n",
       "      <td>273.0</td>\n",
       "      <td>21.0</td>\n",
       "      <td>396.90</td>\n",
       "      <td>7.88</td>\n",
       "      <td>11.9</td>\n",
       "    </tr>\n",
       "  </tbody>\n",
       "</table>\n",
       "</div>"
      ],
      "text/plain": [
       "        CRIM   ZN  INDUS  CHAS    NOX     RM   AGE     DIS  RAD    TAX  \\\n",
       "501  0.06263  0.0  11.93   0.0  0.573  6.593  69.1  2.4786  1.0  273.0   \n",
       "502  0.04527  0.0  11.93   0.0  0.573  6.120  76.7  2.2875  1.0  273.0   \n",
       "503  0.06076  0.0  11.93   0.0  0.573  6.976  91.0  2.1675  1.0  273.0   \n",
       "504  0.10959  0.0  11.93   0.0  0.573  6.794  89.3  2.3889  1.0  273.0   \n",
       "505  0.04741  0.0  11.93   0.0  0.573  6.030  80.8  2.5050  1.0  273.0   \n",
       "\n",
       "     PTRATIO       B  LSTAT  TARGET  \n",
       "501     21.0  391.99   9.67    22.4  \n",
       "502     21.0  396.90   9.08    20.6  \n",
       "503     21.0  396.90   5.64    23.9  \n",
       "504     21.0  393.45   6.48    22.0  \n",
       "505     21.0  396.90   7.88    11.9  "
      ]
     },
     "execution_count": 4,
     "metadata": {},
     "output_type": "execute_result"
    }
   ],
   "source": [
    "data_url = \"https://lib.stat.cmu.edu/datasets/boston\"\n",
    "raw_df=pd.read_csv(data_url, sep=\"\\\\s+\", skiprows=22, header=None)\n",
    "data=np.hstack([raw_df.values[::2, :], raw_df.values[1::2,:2]])\n",
    "target=raw_df.values[1::2,2]\n",
    "\n",
    "feature_names= ['CRIM','ZN','INDUS','CHAS','NOX','RM','AGE','DIS','RAD','TAX','PTRATIO','B','LSTAT']\n",
    "df=pd.DataFrame(data, columns=feature_names)\n",
    "df[\"TARGET\"] = target\n",
    "df.tail()"
   ]
  },
  {
   "cell_type": "markdown",
   "id": "903c9adc-6161-4117-8354-54ce52b44e5c",
   "metadata": {},
   "source": [
    "표준 스케일러로 정규화를 시켜준다.\n",
    "정규화를 통해 각 특성의 단위 차이로 인한 학습의 불균형을 방지한다."
   ]
  },
  {
   "cell_type": "code",
   "execution_count": 28,
   "id": "5fbf89f8-e202-4d91-a708-773c2842c7a0",
   "metadata": {},
   "outputs": [
    {
     "data": {
      "text/html": [
       "<div>\n",
       "<style scoped>\n",
       "    .dataframe tbody tr th:only-of-type {\n",
       "        vertical-align: middle;\n",
       "    }\n",
       "\n",
       "    .dataframe tbody tr th {\n",
       "        vertical-align: top;\n",
       "    }\n",
       "\n",
       "    .dataframe thead th {\n",
       "        text-align: right;\n",
       "    }\n",
       "</style>\n",
       "<table border=\"1\" class=\"dataframe\">\n",
       "  <thead>\n",
       "    <tr style=\"text-align: right;\">\n",
       "      <th></th>\n",
       "      <th>y</th>\n",
       "      <th>y_hat</th>\n",
       "    </tr>\n",
       "  </thead>\n",
       "  <tbody>\n",
       "    <tr>\n",
       "      <th>501</th>\n",
       "      <td>-0.0145</td>\n",
       "      <td>22.345110</td>\n",
       "    </tr>\n",
       "    <tr>\n",
       "      <th>502</th>\n",
       "      <td>-0.2104</td>\n",
       "      <td>22.574284</td>\n",
       "    </tr>\n",
       "    <tr>\n",
       "      <th>503</th>\n",
       "      <td>0.1488</td>\n",
       "      <td>25.860861</td>\n",
       "    </tr>\n",
       "    <tr>\n",
       "      <th>504</th>\n",
       "      <td>-0.0580</td>\n",
       "      <td>24.448441</td>\n",
       "    </tr>\n",
       "    <tr>\n",
       "      <th>505</th>\n",
       "      <td>-1.1572</td>\n",
       "      <td>23.155340</td>\n",
       "    </tr>\n",
       "  </tbody>\n",
       "</table>\n",
       "</div>"
      ],
      "text/plain": [
       "          y      y_hat\n",
       "501 -0.0145  22.345110\n",
       "502 -0.2104  22.574284\n",
       "503  0.1488  25.860861\n",
       "504 -0.0580  24.448441\n",
       "505 -1.1572  23.155340"
      ]
     },
     "execution_count": 28,
     "metadata": {},
     "output_type": "execute_result"
    }
   ],
   "source": [
    "scaler = StandardScaler()\n",
    "scaler.fit(df.values[:, :-1])\n",
    "df.values[:,:-1] = scaler.transform(df.values[:, :-1]).round(4) #정답 컬럼 제외\n",
    "\n",
    "df.tail()"
   ]
  },
  {
   "cell_type": "markdown",
   "id": "3bc267a0-ea22-42fe-aedf-07a4339aefe1",
   "metadata": {},
   "source": [
    "## **Source Code**"
   ]
  },
  {
   "cell_type": "code",
   "execution_count": 6,
   "id": "a71f10ca-7414-4102-a854-df50f3750412",
   "metadata": {},
   "outputs": [],
   "source": [
    "import torch\n",
    "import torch.nn as nn\n",
    "import torch.nn.functional as F\n",
    "import torch.optim as optim"
   ]
  },
  {
   "cell_type": "markdown",
   "id": "8970842a-fd05-47e6-a54b-38d165d8df2c",
   "metadata": {},
   "source": [
    "**1. 데이터 준비 및 입출력 데이터 정의**"
   ]
  },
  {
   "cell_type": "code",
   "execution_count": 7,
   "id": "f7065bfb-5d07-4931-b23b-2030eb21fdc6",
   "metadata": {},
   "outputs": [],
   "source": [
    "data = torch.from_numpy(df.values).float()\n",
    "\n",
    "x = data[:, :-1]\n",
    "y = data[:, -1:]"
   ]
  },
  {
   "cell_type": "markdown",
   "id": "ba16f1ea-352d-4cbf-81ce-4f69c59ee10b",
   "metadata": {},
   "source": [
    "**2. 하이퍼 파라미터 정의**"
   ]
  },
  {
   "cell_type": "code",
   "execution_count": 15,
   "id": "2d6924bb-2d0d-4b4e-b9f7-f0f7e0cbd01f",
   "metadata": {},
   "outputs": [],
   "source": [
    "epochs = 200000\n",
    "learning_rate = 1e-4\n",
    "print_interval = 10000"
   ]
  },
  {
   "cell_type": "markdown",
   "id": "181546b7-1abc-4307-848a-d104f2ad7c1b",
   "metadata": {},
   "source": [
    "**3-1. DNN 정의(모델 클래스 직접 정의)**"
   ]
  },
  {
   "cell_type": "markdown",
   "id": "895d2bfc-e30d-4177-99f2-72bceee1780c",
   "metadata": {},
   "source": [
    "- 선형 계층들은 각각 다른 가중치 파라미터를 가지게 되므로 다른 객체로 선언\n",
    "- 비선형 활성 함수의 경우에는 학습되는 파라미터를 갖지 않기 때문에 모든 계층에서 동일하게 동작하므로, 한 개만 선언"
   ]
  },
  {
   "cell_type": "code",
   "execution_count": 9,
   "id": "61f1aab9-25e7-4c55-96f2-3ad7b92875e6",
   "metadata": {},
   "outputs": [],
   "source": [
    "class MyModel(nn.Module):\n",
    "    def __init__(self, input_dim, output_dim):\n",
    "        self.input_dim = input_dim\n",
    "        self.output_dim = output_dim\n",
    "\n",
    "        super().__init__()\n",
    "\n",
    "        self.linear1 = nn.Linear(input_dim, 3)\n",
    "        self.linear2 = nn.Linear(3, 3)\n",
    "        self.linear3 = nn.Linear(3, 3)\n",
    "        self.linear4 = nn.Linear(3, 3)\n",
    "        self.act = nn.ReLU()\n",
    "\n",
    "    def forward(self, x):\n",
    "        h = self.act(self.linear1(x))\n",
    "        h = self.act(self.linear2(x))\n",
    "        h = self.act(self.linear3(x))\n",
    "        y = self.linear4(h)\n",
    "\n",
    "        return y"
   ]
  },
  {
   "cell_type": "code",
   "execution_count": 10,
   "id": "8c53f392-3ddb-4ab0-90a4-0f9f0d4e8753",
   "metadata": {},
   "outputs": [
    {
     "name": "stdout",
     "output_type": "stream",
     "text": [
      "MyModel(\n",
      "  (linear1): Linear(in_features=13, out_features=3, bias=True)\n",
      "  (linear2): Linear(in_features=3, out_features=3, bias=True)\n",
      "  (linear3): Linear(in_features=3, out_features=3, bias=True)\n",
      "  (linear4): Linear(in_features=3, out_features=3, bias=True)\n",
      "  (act): ReLU()\n",
      ")\n"
     ]
    }
   ],
   "source": [
    "model = MyModel(x.size(-1), y.size(-1))\n",
    "print(model)"
   ]
  },
  {
   "cell_type": "markdown",
   "id": "3e5e0e3b-68f9-49e6-8c9e-ca05667711c5",
   "metadata": {},
   "source": [
    "**3-2. DNN 정의(nn.Sequential 클래스 활용)**"
   ]
  },
  {
   "cell_type": "markdown",
   "id": "47f41879-d5fd-463d-8d74-ebee9ec6d998",
   "metadata": {},
   "source": [
    "- MyModel 클래스와 달리 Sequential이 각 층을 순서대로 담는 리스트형 구조이기 때문에, (Leaky)ReLU 인스턴스를 명시적으로 추가해야한다. "
   ]
  },
  {
   "cell_type": "code",
   "execution_count": 25,
   "id": "7de07621-9226-498f-aacc-baf4f8577471",
   "metadata": {},
   "outputs": [
    {
     "name": "stdout",
     "output_type": "stream",
     "text": [
      "Sequential(\n",
      "  (0): Linear(in_features=13, out_features=3, bias=True)\n",
      "  (1): LeakyReLU(negative_slope=0.01)\n",
      "  (2): Linear(in_features=3, out_features=3, bias=True)\n",
      "  (3): LeakyReLU(negative_slope=0.01)\n",
      "  (4): Linear(in_features=3, out_features=3, bias=True)\n",
      "  (5): LeakyReLU(negative_slope=0.01)\n",
      "  (6): Linear(in_features=3, out_features=3, bias=True)\n",
      "  (7): LeakyReLU(negative_slope=0.01)\n",
      "  (8): Linear(in_features=3, out_features=1, bias=True)\n",
      ")\n"
     ]
    }
   ],
   "source": [
    "model = nn.Sequential(\n",
    "    nn.Linear(x.size(-1), 3), #linear 1\n",
    "    nn.LeakyReLU(),\n",
    "    nn.Linear(3, 3), # linear 2\n",
    "    nn.LeakyReLU(),\n",
    "    nn.Linear(3, 3), # linear 3\n",
    "    nn.LeakyReLU(),\n",
    "    nn.Linear(3, 3), # linear 4\n",
    "    nn.LeakyReLU(),\n",
    "    nn.Linear(3, y.size(-1)) # 해당 문제에서 원하는 문제가 선형적이므로, 최종 계층은 선형 계층으로 설정한다.\n",
    ")\n",
    "\n",
    "print(model)"
   ]
  },
  {
   "cell_type": "markdown",
   "id": "1e327ecd-32c6-45bd-8619-4c2f8fb75827",
   "metadata": {},
   "source": [
    "**4. 최적화 알고리즘 설정**"
   ]
  },
  {
   "cell_type": "code",
   "execution_count": 16,
   "id": "6f31877a-ae6e-48e1-a397-69708a20ff11",
   "metadata": {},
   "outputs": [],
   "source": [
    "optimizer = optim.SGD(model.parameters(), lr = learning_rate)"
   ]
  },
  {
   "cell_type": "markdown",
   "id": "e0b8e65d-ed5c-4936-8095-92eb9493934b",
   "metadata": {},
   "source": [
    "**5. 에폭 루프 설정**"
   ]
  },
  {
   "cell_type": "code",
   "execution_count": 20,
   "id": "48649625-372f-49fa-b578-ea3c18bfa08f",
   "metadata": {},
   "outputs": [
    {
     "name": "stderr",
     "output_type": "stream",
     "text": [
      "C:\\Users\\user\\AppData\\Local\\Temp\\ipykernel_5860\\2952659078.py:9: UserWarning: Converting a tensor with requires_grad=True to a scalar may lead to unexpected behavior.\n",
      "Consider using tensor.detach() first. (Triggered internally at C:\\actions-runner\\_work\\pytorch\\pytorch\\pytorch\\torch\\csrc\\autograd\\generated\\python_variable_methods.cpp:836.)\n",
      "  print(\"Epoch %d : loss=%.4e\" % (i+1, loss))\n"
     ]
    },
    {
     "name": "stdout",
     "output_type": "stream",
     "text": [
      "Epoch 10000 : loss=5.4492e+01\n",
      "Epoch 20000 : loss=4.2771e+01\n",
      "Epoch 30000 : loss=3.6336e+01\n",
      "Epoch 40000 : loss=3.3638e+01\n",
      "Epoch 50000 : loss=2.5353e+01\n",
      "Epoch 60000 : loss=2.6315e+01\n",
      "Epoch 70000 : loss=1.7883e+01\n",
      "Epoch 80000 : loss=1.7206e+01\n",
      "Epoch 90000 : loss=1.6047e+01\n",
      "Epoch 100000 : loss=1.5723e+01\n",
      "Epoch 110000 : loss=1.5343e+01\n",
      "Epoch 120000 : loss=1.5316e+01\n",
      "Epoch 130000 : loss=1.5062e+01\n",
      "Epoch 140000 : loss=1.4492e+01\n",
      "Epoch 150000 : loss=1.4447e+01\n",
      "Epoch 160000 : loss=1.3740e+01\n",
      "Epoch 170000 : loss=1.3694e+01\n",
      "Epoch 180000 : loss=1.2409e+01\n",
      "Epoch 190000 : loss=1.3847e+01\n",
      "Epoch 200000 : loss=1.2970e+01\n"
     ]
    }
   ],
   "source": [
    "for i in range(epochs):\n",
    "    y_hat = model(x)\n",
    "    loss = F.mse_loss(y_hat, y)\n",
    "    optimizer.zero_grad()\n",
    "    loss.backward()\n",
    "    optimizer.step()\n",
    "\n",
    "    if (i+1) % print_interval == 0:\n",
    "        print(\"Epoch %d : loss=%.4e\" % (i+1, loss))"
   ]
  },
  {
   "cell_type": "markdown",
   "id": "13754dae-2bc5-44f7-b464-34606bdd96de",
   "metadata": {},
   "source": [
    "**6. 시각화**"
   ]
  },
  {
   "cell_type": "code",
   "execution_count": 23,
   "id": "8d46182c-b040-423a-9b40-abfd7a50d5e8",
   "metadata": {},
   "outputs": [
    {
     "data": {
      "image/png": "[encoded data removed]",
      "text/plain": [
       "<Figure size 1000x1000 with 6 Axes>"
      ]
     },
     "metadata": {},
     "output_type": "display_data"
    }
   ],
   "source": [
    "df = pd.DataFrame(\n",
    "    torch.cat([y, y_hat], dim=1).detach().numpy(),\n",
    "    columns=[\"y\", \"y_hat\"]\n",
    ")\n",
    "\n",
    "sns.pairplot(df, height=5)\n",
    "plt.show()"
   ]
  }
 ],
 "metadata": {
  "kernelspec": {
   "display_name": "Python 3 (ipykernel)",
   "language": "python",
   "name": "python3"
  },
  "language_info": {
   "codemirror_mode": {
    "name": "ipython",
    "version": 3
   },
   "file_extension": ".py",
   "mimetype": "text/x-python",
   "name": "python",
   "nbconvert_exporter": "python",
   "pygments_lexer": "ipython3",
   "version": "3.13.5"
  }
 },
 "nbformat": 4,
 "nbformat_minor": 5
}
