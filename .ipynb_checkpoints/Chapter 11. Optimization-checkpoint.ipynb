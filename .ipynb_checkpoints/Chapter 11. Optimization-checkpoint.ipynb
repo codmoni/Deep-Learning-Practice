{
 "cells": [
  {
   "cell_type": "markdown",
   "id": "0332e104-0db0-41b9-bb96-3ba1c951493d",
   "metadata": {},
   "source": [
    "# Optimization"
   ]
  },
  {
   "cell_type": "markdown",
   "id": "eecc271d-8f05-49b1-95aa-7b67980b324f",
   "metadata": {},
   "source": [
    "### **Data set**"
   ]
  },
  {
   "cell_type": "markdown",
   "id": "5056ba0d-09d0-4c2d-a5c4-237c34402ab1",
   "metadata": {},
   "source": [
    "---"
   ]
  },
  {
   "cell_type": "markdown",
   "id": "ad358aca-f79b-4521-a5d4-06e30c4d37db",
   "metadata": {},
   "source": [
    "### **Souce Code**"
   ]
  },
  {
   "cell_type": "code",
   "execution_count": null,
   "id": "812bdd94-ca5e-4df5-9c70-e6109183be91",
   "metadata": {},
   "outputs": [],
   "source": []
  }
 ],
 "metadata": {
  "kernelspec": {
   "display_name": "Python 3 (ipykernel)",
   "language": "python",
   "name": "python3"
  },
  "language_info": {
   "codemirror_mode": {
    "name": "ipython",
    "version": 3
   },
   "file_extension": ".py",
   "mimetype": "text/x-python",
   "name": "python",
   "nbconvert_exporter": "python",
   "pygments_lexer": "ipython3",
   "version": "3.13.5"
  }
 },
 "nbformat": 4,
 "nbformat_minor": 5
}
