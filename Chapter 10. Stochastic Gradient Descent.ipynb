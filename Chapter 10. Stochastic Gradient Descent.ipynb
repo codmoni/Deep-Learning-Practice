{
 "cells": [
  {
   "cell_type": "markdown",
   "id": "e353244c-07ea-46db-a43d-9945121f2577",
   "metadata": {},
   "source": [
    "# Stochastic Gradient Descent"
   ]
  },
  {
   "cell_type": "markdown",
   "id": "c88d6103-be1a-4d2e-bfe1-2b122531366c",
   "metadata": {},
   "source": [
    "### **Data set**"
   ]
  },
  {
   "cell_type": "markdown",
   "id": "bb495f00-1002-4e36-9ed0-43b57f09dbac",
   "metadata": {},
   "source": [
    "---"
   ]
  },
  {
   "cell_type": "markdown",
   "id": "46f4fdd1-9187-4291-a4b6-f5c243208e8f",
   "metadata": {},
   "source": [
    "### **Source Code**"
   ]
  },
  {
   "cell_type": "markdown",
   "id": "23d0cc52-fa19-455c-bd2c-a87514e5777e",
   "metadata": {},
   "source": []
  }
 ],
 "metadata": {
  "kernelspec": {
   "display_name": "Python 3 (ipykernel)",
   "language": "python",
   "name": "python3"
  },
  "language_info": {
   "codemirror_mode": {
    "name": "ipython",
    "version": 3
   },
   "file_extension": ".py",
   "mimetype": "text/x-python",
   "name": "python",
   "nbconvert_exporter": "python",
   "pygments_lexer": "ipython3",
   "version": "3.13.5"
  }
 },
 "nbformat": 4,
 "nbformat_minor": 5
}
