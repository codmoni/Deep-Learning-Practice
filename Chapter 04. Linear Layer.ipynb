{
 "cells": [
  {
   "cell_type": "markdown",
   "id": "ee89513f-bc5d-4c78-9b20-9700ef97ebf1",
   "metadata": {},
   "source": [
    "# **Linear Layer**"
   ]
  },
  {
   "cell_type": "markdown",
   "id": "e69ee0ef-9312-42ba-bded-15bab3ab2ce4",
   "metadata": {},
   "source": [
    "## **Matrix Multiplication**"
   ]
  },
  {
   "cell_type": "markdown",
   "id": "302ad8b4-a39a-478a-9618-0d92c3997f64",
   "metadata": {},
   "source": [
    "### **Basic**"
   ]
  },
  {
   "cell_type": "code",
   "execution_count": 19,
   "id": "517c98ff-d9ee-41e5-8c1a-9be691c5a411",
   "metadata": {},
   "outputs": [],
   "source": [
    "import torch"
   ]
  },
  {
   "cell_type": "code",
   "execution_count": 20,
   "id": "84033816-25ea-4162-b475-a1c3577e0bb1",
   "metadata": {},
   "outputs": [
    {
     "name": "stdout",
     "output_type": "stream",
     "text": [
      "torch.Size([3, 2]) torch.Size([2, 2])\n"
     ]
    }
   ],
   "source": [
    "x = torch.FloatTensor([[1,2],\n",
    "                       [3,4],\n",
    "                       [4,5]])\n",
    "y = torch.FloatTensor([[1,2],\n",
    "                       [1,2]])\n",
    "\n",
    "\n",
    "print(x.size(), y.size())"
   ]
  },
  {
   "cell_type": "markdown",
   "id": "fe468f48-c421-40cc-a75b-4f3efc92e1f3",
   "metadata": {},
   "source": [
    "`matmul()` 함수를 통해 행렬 곱을 수행한다."
   ]
  },
  {
   "cell_type": "code",
   "execution_count": 21,
   "id": "8a38368d-93b8-4b78-8d08-66bcf843fef6",
   "metadata": {},
   "outputs": [
    {
     "name": "stdout",
     "output_type": "stream",
     "text": [
      "tensor([[ 3.,  6.],\n",
      "        [ 7., 14.],\n",
      "        [ 9., 18.]]) torch.Size([3, 2])\n"
     ]
    }
   ],
   "source": [
    "z = torch.matmul(x,y)\n",
    "print(z, z.size())"
   ]
  },
  {
   "cell_type": "markdown",
   "id": "ee8d4cbc-1429-4ba5-9b87-2d1a46909555",
   "metadata": {},
   "source": [
    "### **Batch Matrix Multiplication**"
   ]
  },
  {
   "cell_type": "code",
   "execution_count": 22,
   "id": "db036045-e40b-44fc-85b2-9e9431213295",
   "metadata": {},
   "outputs": [],
   "source": [
    "x = torch.FloatTensor(3,3,2)\n",
    "y = torch.FloatTensor(3,2,3)"
   ]
  },
  {
   "cell_type": "markdown",
   "id": "26bc51a3-8e09-47eb-a9a7-d56d048c838f",
   "metadata": {},
   "source": [
    "`bmm()` 함수를 통해 행렬 곱이 3번 수행되는 연산을 병렬로 동시에 진행할 수 있다.\n",
    "마지막 2개의 차원을 행렬 취급하여 병렬로 행렬곱 연산을 수행한다."
   ]
  },
  {
   "cell_type": "code",
   "execution_count": 23,
   "id": "2b1702c8-a638-4614-97b7-aba0cc449bab",
   "metadata": {},
   "outputs": [
    {
     "name": "stdout",
     "output_type": "stream",
     "text": [
      "tensor([[[0., 0., 0.],\n",
      "         [0., 0., 0.],\n",
      "         [0., 0., 0.]],\n",
      "\n",
      "        [[0., 0., 0.],\n",
      "         [0., 0., 0.],\n",
      "         [0., 0., 0.]],\n",
      "\n",
      "        [[0., 0., 0.],\n",
      "         [0., 0., 0.],\n",
      "         [0., 0., 0.]]]) torch.Size([3, 3, 3])\n"
     ]
    }
   ],
   "source": [
    "z = torch.bmm(x,y)\n",
    "print(z, z.size())"
   ]
  },
  {
   "cell_type": "markdown",
   "id": "fe942cb0-4ed5-428f-aadb-44787b6da173",
   "metadata": {},
   "source": [
    "단, `bmm()` 함수를 적용하기 위해서 마지막 2개의 차원을 제외한 다른 차원의 크기는 동일해야한다."
   ]
  },
  {
   "cell_type": "markdown",
   "id": "b8dc3f0e-255d-41c1-a1de-0f118f22d67e",
   "metadata": {},
   "source": [
    "---"
   ]
  },
  {
   "cell_type": "markdown",
   "id": "78b5c2a2-4e7d-47b1-af88-f4a2bce97f5a",
   "metadata": {},
   "source": [
    "## **Linear Layer**"
   ]
  },
  {
   "cell_type": "markdown",
   "id": "3a35b9c0-c4d6-4890-a0ad-cbc93aa11648",
   "metadata": {},
   "source": [
    "### **Basic**"
   ]
  },
  {
   "cell_type": "markdown",
   "id": "7979258d-6914-4b08-96f9-bbcec2f341c3",
   "metadata": {},
   "source": [
    "- W : 행렬 곱 연산\n",
    "- b : 브로드캐스팅 덧셈 연산"
   ]
  },
  {
   "cell_type": "code",
   "execution_count": 40,
   "id": "b8f0b2ca-5c8b-4864-8fde-d0c427a312b3",
   "metadata": {},
   "outputs": [],
   "source": [
    "W = torch.FloatTensor([[1,2], # 입력 3개 -> 출력 2개로 반환하는 가중치 행\n",
    "                       [3,4],\n",
    "                       [5,6]])\n",
    "b = torch.FloatTensor([2,2]) # 출력 2차원 더해지는 편향 벡"
   ]
  },
  {
   "cell_type": "markdown",
   "id": "dc020085-9ff7-45ee-b5cc-7da0069889bd",
   "metadata": {},
   "source": [
    "이 텐서들을 파라미터로 삼아 선형 계층 함수를 구성할 수 있다."
   ]
  },
  {
   "cell_type": "code",
   "execution_count": 41,
   "id": "b7aa63d8-b7d4-4a8d-a385-f2252c4714da",
   "metadata": {},
   "outputs": [],
   "source": [
    "def linear(x, W, b):\n",
    "    y = torch.matmul(x,W) + b\n",
    "\n",
    "    return y"
   ]
  },
  {
   "cell_type": "code",
   "execution_count": 42,
   "id": "448621d9-8176-47f0-a5ca-e4852ed32220",
   "metadata": {},
   "outputs": [
    {
     "name": "stdout",
     "output_type": "stream",
     "text": [
      "torch.Size([4, 2])\n"
     ]
    }
   ],
   "source": [
    "x=torch.FloatTensor(4,3) # 3개의 요소를 갖는 4개의 샘플(배치크기, input 개수)\n",
    "y = linear(x, W, b)\n",
    "print(y.size()) # 최종 출력: 샘플 4개 각각의 2차원 결과"
   ]
  },
  {
   "cell_type": "markdown",
   "id": "f72b923c-5cd9-4afd-9ca4-a68ea1f903b3",
   "metadata": {},
   "source": [
    "**(배치크기,input_dim)×(input_dim,output_dim)=(배치크기,output_dim)**"
   ]
  },
  {
   "cell_type": "markdown",
   "id": "1ee041a1-9aee-4efc-adb9-4f61f9f13645",
   "metadata": {},
   "source": [
    "---"
   ]
  },
  {
   "cell_type": "markdown",
   "id": "ad9e6450-6de5-4b10-b0a6-9657d891adbc",
   "metadata": {},
   "source": [
    "### **torch.nn.Module 클래스 상속 받기**"
   ]
  },
  {
   "cell_type": "markdown",
   "id": "cb30c178-78f3-47b6-b36b-bc581f62ac4a",
   "metadata": {},
   "source": [
    "pytorch에는 nn(neural networks) 패키지가 있고 내부에는 미리 정의된 많은 신경망들이 있다.\n",
    "그리고 그 신경망들은 torch.nn.Module이라는 추상 클래스를 상속받아 정의되어 있다.\n",
    "이 추상 클래스를 상속받아 선형 계층을 구현할 수 있다."
   ]
  },
  {
   "cell_type": "code",
   "execution_count": 43,
   "id": "14b65d0a-362a-43fb-9c35-4fb7fd1d7238",
   "metadata": {},
   "outputs": [],
   "source": [
    "import torch.nn as nn"
   ]
  },
  {
   "cell_type": "markdown",
   "id": "104b60bf-186b-4570-a3f8-5913702f0543",
   "metadata": {},
   "source": [
    "다음 2개의 메서드를 오버라이드 한다.\n",
    "- `__init__` : 계층 내부에서 필요한 변수를 미리 선언하고 있으며, 또 다른 nn.Module을 상속받은 인스턴스도 소유할 수 있다.\n",
    "- `forward()` : 계층을 통과하는데 필요한 계산을 수행한다."
   ]
  },
  {
   "cell_type": "code",
   "execution_count": 46,
   "id": "b1f15709-96d8-47e6-a4c7-aaccd54976ad",
   "metadata": {},
   "outputs": [],
   "source": [
    "class MyLinear(nn.Module):\n",
    "    def __init__(self, input_dim=3, output_dim=2): # 3-dimensional input, 2-dimensional output\n",
    "        self.input_dim = input_dim\n",
    "        self.output_dim = output_dim\n",
    "\n",
    "        super().__init__() # 부모 클래스(nn.Module)의 초기화. nn.Module.__init__(self)와 동일함\n",
    "\n",
    "        self.W = torch.FloatTensor(input_dim, output_dim)\n",
    "        self.b = torch.FloatTensor(output_dim)\n",
    "\n",
    "    def forward(self, x):\n",
    "            y = torch.matmul(x, self.W) + self.b\n",
    "\n",
    "            return y"
   ]
  },
  {
   "cell_type": "code",
   "execution_count": 45,
   "id": "933805e0-17cc-4a3a-ad13-0cdfe18e9895",
   "metadata": {},
   "outputs": [
    {
     "data": {
      "text/plain": [
       "tensor([[ 3.4212e+29, -1.1416e-27],\n",
       "        [ 1.1210e-44,  0.0000e+00],\n",
       "        [ 1.1210e-44,  0.0000e+00],\n",
       "        [ 1.1210e-44,  0.0000e+00],\n",
       "        [ 1.1210e-44,  0.0000e+00]])"
      ]
     },
     "execution_count": 45,
     "metadata": {},
     "output_type": "execute_result"
    }
   ],
   "source": [
    "linear = MyLinear(3,2)\n",
    "\n",
    "x=torch.FloatTensor(5,3) # 3개의 input을 갖는 5개의 샘플 \n",
    "y = linear(x)\n",
    "\n",
    "y"
   ]
  },
  {
   "cell_type": "code",
   "execution_count": 38,
   "id": "aa8ebe64-5beb-45aa-a6fa-43857de6e5f8",
   "metadata": {},
   "outputs": [],
   "source": [
    "for p in linear.parameters():\n",
    "    print(p)"
   ]
  },
  {
   "cell_type": "markdown",
   "id": "c6b6356a-e516-4a42-a0e3-ea6af550f887",
   "metadata": {},
   "source": [
    "이 방법은 내부에 학습할 수 있는 파라미터가 없는 것으로 인식한다.\n",
    "더 정확한 방법은 `torch.nn.Parameter` 클래스를 활용하는 것이다."
   ]
  },
  {
   "cell_type": "markdown",
   "id": "0db7b146-9014-4d26-be1a-57835c375146",
   "metadata": {},
   "source": [
    "---"
   ]
  },
  {
   "cell_type": "markdown",
   "id": "026ac8e5-52b6-4316-93df-7b97fc557daa",
   "metadata": {},
   "source": [
    "### **nn.Parameter 활용**"
   ]
  },
  {
   "cell_type": "code",
   "execution_count": 49,
   "id": "5d392e41-89d4-4f78-b636-6df1a3c3bf1f",
   "metadata": {},
   "outputs": [],
   "source": [
    "class MyLinear(nn.Module):\n",
    "    def __init__(self, input_dim=3, output_dim=2):\n",
    "        self.input_dim = input_dim\n",
    "        self.output_dim = output_dim\n",
    "\n",
    "        super().__init__()\n",
    "\n",
    "        self.W = nn.Parameter(torch.FloatTensor(input_dim, output_dim))\n",
    "        self.b = nn.Parameter(torch.FloatTensor(output_dim))\n",
    "\n",
    "    def forward(self, x):\n",
    "        y = torch.matmul(x, self.W) + self.b\n",
    "\n",
    "        return y"
   ]
  },
  {
   "cell_type": "code",
   "execution_count": 50,
   "id": "f760f081-dee6-46e6-8703-51f110aa7818",
   "metadata": {},
   "outputs": [
    {
     "name": "stdout",
     "output_type": "stream",
     "text": [
      "Parameter containing:\n",
      "tensor([[2., 2.],\n",
      "        [2., 2.],\n",
      "        [2., 2.]], requires_grad=True)\n",
      "Parameter containing:\n",
      "tensor([1.1210e-44, 0.0000e+00], requires_grad=True)\n",
      "tensor([[1.1210e-44, 0.0000e+00],\n",
      "        [1.1210e-44, 0.0000e+00],\n",
      "        [1.1210e-44, 0.0000e+00],\n",
      "        [1.1210e-44, 0.0000e+00]], grad_fn=<AddBackward0>)\n"
     ]
    }
   ],
   "source": [
    "linear = MyLinear(3,2)\n",
    "x = torch.FloatTensor(4,3)\n",
    "y = linear(x)\n",
    "\n",
    "for p in linear.parameters():\n",
    "    print(p)\n",
    "\n",
    "print(y)"
   ]
  },
  {
   "cell_type": "markdown",
   "id": "6f68c041-4824-48d6-b585-a7a0dbfee489",
   "metadata": {},
   "source": [
    "---"
   ]
  },
  {
   "cell_type": "markdown",
   "id": "a30c1b71-aa34-4c2c-8fae-fb48f1284709",
   "metadata": {},
   "source": [
    "### **nn.Linear 활용**"
   ]
  },
  {
   "cell_type": "markdown",
   "id": "360aa0cd-b3b0-433d-b107-0abdd92c0c6c",
   "metadata": {},
   "source": [
    "torch.nn에 미리 정의된 선형 계층을 불러올 수 있다."
   ]
  },
  {
   "cell_type": "markdown",
   "id": "a380143f-2b2e-4b6c-b54a-f01a9425febc",
   "metadata": {},
   "source": [
    "`torch.nn.Linear(in_features, out_features, bias=True)`\n",
    "- `in_features': 입력 벡터의 차원\n",
    "- `out_features`: 출력 벡터의 차원\n",
    "- `bias`:True면 편향을 추가"
   ]
  },
  {
   "cell_type": "code",
   "execution_count": 58,
   "id": "b18788f0-1545-4145-8294-0bc6ce8e4c84",
   "metadata": {},
   "outputs": [
    {
     "data": {
      "text/plain": [
       "tensor([[-3.1626e+13, -2.1315e+13],\n",
       "        [ 1.7274e-01,  4.5766e-01]], grad_fn=<AddmmBackward0>)"
      ]
     },
     "execution_count": 58,
     "metadata": {},
     "output_type": "execute_result"
    }
   ],
   "source": [
    "linear = nn.Linear(3,2) # 3차원의 입력 벡터를 받아 2차원의 출력을 반환하는 선형 계층\n",
    "y = linear(x)\n",
    "x = torch.FloatTensor(2, 3)\n",
    "y"
   ]
  },
  {
   "cell_type": "code",
   "execution_count": 59,
   "id": "ab43871b-b042-43bb-81d5-9670c7152108",
   "metadata": {},
   "outputs": [
    {
     "name": "stdout",
     "output_type": "stream",
     "text": [
      "Parameter containing:\n",
      "tensor([[ 0.0553, -0.4860, -0.1248],\n",
      "        [ 0.0373, -0.2366, -0.0991]], requires_grad=True)\n",
      "Parameter containing:\n",
      "tensor([0.2841, 0.5292], requires_grad=True)\n"
     ]
    }
   ],
   "source": [
    "for p in linear.parameters():\n",
    "    print(p)"
   ]
  },
  {
   "cell_type": "markdown",
   "id": "67a7cb11-9723-49f8-95db-5f9f04eb474b",
   "metadata": {},
   "source": [
    "앞서 `nn.Module`을 상속받아 정의한 `MyLinear` 클래스는 내부의 nn.Module 하위 클래스를 소유할 수 있다. 따라서 아래의 방식도 사용 가능하다."
   ]
  },
  {
   "cell_type": "code",
   "execution_count": 62,
   "id": "2630281e-10f1-4c8d-803d-a071dbf31513",
   "metadata": {},
   "outputs": [],
   "source": [
    "class MyLinear(nn.Module):\n",
    "    def __init__(self, input_dim=3, output_dim=2):\n",
    "        self.input_dim = input_dim\n",
    "        self.output_dim = output_dim\n",
    "\n",
    "        super.__init__()\n",
    "\n",
    "        self.linear = nn.Linear(input_dim, output_dim)\n",
    "\n",
    "    def forward(self, x):\n",
    "        y = self.linear(x)\n",
    "\n",
    "        return y"
   ]
  },
  {
   "cell_type": "code",
   "execution_count": 63,
   "id": "55b6cda7-eebe-46ca-91dd-a69ec1dd5793",
   "metadata": {},
   "outputs": [
    {
     "data": {
      "text/plain": [
       "tensor([[-8.6607e+13,  1.7978e+14],\n",
       "        [-1.5533e-01, -3.6310e-01],\n",
       "        [-1.5533e-01, -3.6310e-01],\n",
       "        [-1.5533e-01, -3.6310e-01],\n",
       "        [-1.5533e-01, -3.6310e-01],\n",
       "        [-1.5533e-01, -3.6310e-01],\n",
       "        [-1.5533e-01, -3.6310e-01]], grad_fn=<AddmmBackward0>)"
      ]
     },
     "execution_count": 63,
     "metadata": {},
     "output_type": "execute_result"
    }
   ],
   "source": [
    "linear = nn.Linear(3,2) # 3차원의 입력 벡터를 받아 2차원의 출력을 반환하는 선형 계층\n",
    "y = linear(x)\n",
    "x = torch.FloatTensor(7, 3)\n",
    "y"
   ]
  },
  {
   "cell_type": "markdown",
   "id": "0d060408-b880-4d1a-aa38-d2e2dec9fca9",
   "metadata": {},
   "source": [
    "---"
   ]
  },
  {
   "cell_type": "markdown",
   "id": "d909f648-4319-4d79-9148-75c49d92e421",
   "metadata": {},
   "source": [
    "## **GPU 사용하기**"
   ]
  },
  {
   "cell_type": "markdown",
   "id": "c6d97203-db9c-4303-966a-c22b913b0bd2",
   "metadata": {},
   "source": [
    "[google colab 실습 노트 바로가기](https://colab.research.google.com/drive/1cQMYdPkMOk4o20jlt2eHDe3F7CqjZSQP?authuser=0#scrollTo=VRWw_v-guAQh)"
   ]
  },
  {
   "cell_type": "code",
   "execution_count": null,
   "id": "18fe210b-82b2-4c9e-a961-fc3d57946e3a",
   "metadata": {},
   "outputs": [],
   "source": []
  }
 ],
 "metadata": {
  "kernelspec": {
   "display_name": "Python 3 (ipykernel)",
   "language": "python",
   "name": "python3"
  },
  "language_info": {
   "codemirror_mode": {
    "name": "ipython",
    "version": 3
   },
   "file_extension": ".py",
   "mimetype": "text/x-python",
   "name": "python",
   "nbconvert_exporter": "python",
   "pygments_lexer": "ipython3",
   "version": "3.13.5"
  }
 },
 "nbformat": 4,
 "nbformat_minor": 5
}
